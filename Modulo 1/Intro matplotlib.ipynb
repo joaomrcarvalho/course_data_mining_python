{
 "cells": [
  {
   "cell_type": "markdown",
   "metadata": {},
   "source": [
    "# Introdução às funcionalidades básicas do matplotlib"
   ]
  },
  {
   "cell_type": "markdown",
   "metadata": {},
   "source": [
    "![alt text](http://joaomrcarvalho.github.io/images/matplotlib-1.jpg)"
   ]
  },
  {
   "cell_type": "code",
   "execution_count": null,
   "metadata": {
    "scrolled": true
   },
   "outputs": [],
   "source": [
    "import matplotlib.pyplot as plt\n",
    "import numpy as np\n",
    "\n",
    "%matplotlib inline "
   ]
  },
  {
   "cell_type": "code",
   "execution_count": null,
   "metadata": {
    "scrolled": true
   },
   "outputs": [],
   "source": [
    "x = np.random.randn(100) \n",
    "\n",
    "plt.plot(x)\n",
    "plt.show()\n",
    "\n",
    "plt.plot(x)\n",
    "plt.xlabel('axis x')\n",
    "plt.ylabel('axis y')\n",
    "plt.show()\n",
    "\n",
    "plt.plot(x,c='r',linewidth=2.0)\n",
    "plt.xlabel('axis x')\n",
    "plt.ylabel('axis y')\n",
    "plt.title('Título do gráfico')\n",
    "plt.show()\n"
   ]
  },
  {
   "cell_type": "code",
   "execution_count": null,
   "metadata": {
    "scrolled": true
   },
   "outputs": [],
   "source": [
    "x = np.random.randn(100)\n",
    "y = np.random.randn(100)\n",
    "\n",
    "plt.scatter(x,y)\n",
    "plt.title('Título 1')\n",
    "plt.show()\n",
    "\n",
    "\n",
    "plt.scatter(x,y,s=100)\n",
    "plt.title('Título 2')\n",
    "plt.show()\n",
    "\n",
    "plt.scatter(x,y,s=100,marker='d',alpha=0.75)\n",
    "plt.title('Título 3')\n",
    "plt.show()\n",
    "\n",
    "\n",
    "label = np.random.randint(0,3,100)\n",
    "\n",
    "plt.scatter(x,y,s=100,marker='d',alpha=0.75,c=label)\n",
    "plt.title('Título 4')\n",
    "plt.show()"
   ]
  },
  {
   "cell_type": "code",
   "execution_count": null,
   "metadata": {
    "scrolled": true
   },
   "outputs": [],
   "source": [
    "x = np.random.randn(100)\n",
    "y = np.random.randn(100)\n",
    "\n",
    "plt.figure(1)\n",
    "\n",
    "plt.subplot(121) # colocamos o primeiro gráfico na figura\n",
    "plt.plot(x,c='r',linewidth=2.0)\n",
    "plt.xlabel('axis x')\n",
    "plt.ylabel('axis y')\n",
    "plt.title('Título do primeiro gráfico')\n",
    "\n",
    "plt.subplot(122) # colocamos o segundo gráfico na figura\n",
    "plt.scatter(x,y,s=100,marker='d',alpha=0.75,c=label)\n",
    "plt.title('Título do segundo gráfico')\n",
    "plt.show()"
   ]
  }
 ],
 "metadata": {
  "kernelspec": {
   "display_name": "Python 3",
   "language": "python",
   "name": "python3"
  },
  "language_info": {
   "codemirror_mode": {
    "name": "ipython",
    "version": 3
   },
   "file_extension": ".py",
   "mimetype": "text/x-python",
   "name": "python",
   "nbconvert_exporter": "python",
   "pygments_lexer": "ipython3",
   "version": "3.7.1"
  }
 },
 "nbformat": 4,
 "nbformat_minor": 2
}
