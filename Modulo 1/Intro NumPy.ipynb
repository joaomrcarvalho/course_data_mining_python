{
 "cells": [
  {
   "cell_type": "markdown",
   "metadata": {},
   "source": [
    "# Introdução ao NumPy"
   ]
  },
  {
   "cell_type": "markdown",
   "metadata": {},
   "source": [
    "![alt text](http://joaomrcarvalho.github.io/images/1_00pL0zLnfI7y8d5G1aQrHA.jpeg)"
   ]
  },
  {
   "cell_type": "code",
   "execution_count": null,
   "metadata": {},
   "outputs": [],
   "source": [
    "import numpy as np"
   ]
  },
  {
   "cell_type": "code",
   "execution_count": null,
   "metadata": {},
   "outputs": [],
   "source": [
    "vector = np.array([1,2,3])\n",
    "\n",
    "vector.shape"
   ]
  },
  {
   "cell_type": "code",
   "execution_count": null,
   "metadata": {},
   "outputs": [],
   "source": [
    "matrix = np.array([[1,2,3],\n",
    "                   [2,6,7]])\n",
    "                   \n",
    "                   \n",
    "matrix.shape"
   ]
  },
  {
   "cell_type": "code",
   "execution_count": null,
   "metadata": {},
   "outputs": [],
   "source": [
    "tensor = np.array([[[1,2,1],[2,3,4],[3,4,1],[2,3,1]],\n",
    "                   [[2,3,9],[9,0,1],[5,6,2],[0,1,0]]]\n",
    "                   )\n",
    "\n",
    "tensor.shape"
   ]
  },
  {
   "cell_type": "code",
   "execution_count": null,
   "metadata": {},
   "outputs": [],
   "source": [
    "zeros = np.zeros((5,10))\n",
    "print(zeros)\n",
    "\n",
    "print('---------------------------------')\n",
    "\n",
    "# também podemos especificar qual o tipo de dados pretendido\n",
    "zeros_32 = np.zeros((10,5),dtype=np.int32)\n",
    "print(zeros_32)\n",
    "\n",
    "\n"
   ]
  },
  {
   "cell_type": "code",
   "execution_count": null,
   "metadata": {},
   "outputs": [],
   "source": [
    "vetor = np.arange(1,10)\n",
    "print(vetor)\n",
    "\n",
    "print('------------------------------------------------')\n",
    "\n",
    "vetor_inter = np.arange(0, 21, 5)\n",
    "print(vetor_inter)\n",
    "\n",
    "\n",
    "print('-------------------------------------------------')\n",
    "vetor_re = vetor.reshape(3,3) \n",
    "print(vetor_re)\n"
   ]
  },
  {
   "cell_type": "code",
   "execution_count": null,
   "metadata": {},
   "outputs": [],
   "source": [
    "vetor = np.array([1,2,3,2,1]) \n",
    "print(2 + vetor)\n",
    "\n",
    "print(\"----------------------------------\")\n",
    "matriz = np.array([[1,9,4],\n",
    "                   [2,6,5],\n",
    "                   [3,4,2]])\n",
    "\n",
    "print(2 + matriz)"
   ]
  },
  {
   "cell_type": "code",
   "execution_count": null,
   "metadata": {},
   "outputs": [],
   "source": [
    "vetor = np.array([1,2,3,2,1]) \n",
    "print(2 * vetor)\n",
    "\n",
    "print()\n",
    "matriz = np.array([[1,9,4],\n",
    "                   [2,6,5],\n",
    "                   [3,4,2]])\n",
    "\n",
    "print(2 * matriz)"
   ]
  },
  {
   "cell_type": "code",
   "execution_count": null,
   "metadata": {},
   "outputs": [],
   "source": [
    "vetor_1 = np.array([1,2,9])\n",
    "vetor_2 = np.array([2,3,1])\n",
    "\n",
    "print(vetor_1 * vetor_2)\n",
    "\n",
    "print('------------------------')\n",
    "\n",
    "print(vetor_1.dot(vetor_2))"
   ]
  },
  {
   "cell_type": "code",
   "execution_count": null,
   "metadata": {},
   "outputs": [],
   "source": [
    "matriz_1 = np.array([[1,2,9],\n",
    "                    [2,3,4]])\n",
    "\n",
    "matriz_2 = np.array([[2,3],\n",
    "                     [4,5],\n",
    "                     [2,6]])\n",
    "\n",
    "print(matriz_1.dot(matriz_2)) "
   ]
  },
  {
   "cell_type": "code",
   "execution_count": null,
   "metadata": {},
   "outputs": [],
   "source": [
    "matriz = np.array([[1,2,3,4],\n",
    "                   [4,5,3,2],\n",
    "                   [2,3,4,5],\n",
    "                   [2,9,8,5]])\n",
    "\n",
    "a = matriz[0]\n",
    "print(a)\n",
    "\n",
    "print('-------------------------------')\n",
    "\n",
    "b = matriz[:,1]\n",
    "print(b)\n",
    "\n",
    "print('---------------------------------')\n",
    "\n",
    "c = matriz[[0,2]]\n",
    "print(c)\n",
    "\n",
    "print('---------------------------------')\n",
    "\n",
    "d = matriz[:, [0,3]]\n",
    "print(d)"
   ]
  }
 ],
 "metadata": {
  "kernelspec": {
   "display_name": "Python 3",
   "language": "python",
   "name": "python3"
  },
  "language_info": {
   "codemirror_mode": {
    "name": "ipython",
    "version": 3
   },
   "file_extension": ".py",
   "mimetype": "text/x-python",
   "name": "python",
   "nbconvert_exporter": "python",
   "pygments_lexer": "ipython3",
   "version": "3.7.1"
  }
 },
 "nbformat": 4,
 "nbformat_minor": 2
}
