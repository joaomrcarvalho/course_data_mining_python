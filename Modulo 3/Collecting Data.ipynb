{
 "cells": [
  {
   "cell_type": "markdown",
   "metadata": {},
   "source": [
    "# Recolher e carregar dados com o pandas"
   ]
  },
  {
   "cell_type": "markdown",
   "metadata": {},
   "source": [
    "![alt text](http://joaomrcarvalho.github.io/images/Data-collection-in-quantitative-research-4-1024x538.jpg)"
   ]
  },
  {
   "cell_type": "code",
   "execution_count": null,
   "metadata": {},
   "outputs": [],
   "source": [
    "import pandas as pd\n",
    "import numpy as np"
   ]
  },
  {
   "cell_type": "markdown",
   "metadata": {},
   "source": [
    "## Formatos tradicionais"
   ]
  },
  {
   "cell_type": "markdown",
   "metadata": {},
   "source": [
    "### Carregar dados .csv"
   ]
  },
  {
   "cell_type": "code",
   "execution_count": null,
   "metadata": {},
   "outputs": [],
   "source": [
    "df = pd.DataFrame({'id':[0,1,2,3,4,5],\n",
    "                   'x1':['A','B','C','D','E','F'],\n",
    "                   'x2':['a',' ','c','-','e','f'],\n",
    "                   'x3':[1,2,'3',np.nan,5,6.0]})\n",
    "\n",
    "print(df)\n",
    "\n",
    "df.to_csv('file.csv')\n",
    "\n",
    "df = pd.read_csv('file.csv')\n",
    "\n",
    "df.to_csv('file.csv',sep=';')"
   ]
  },
  {
   "cell_type": "code",
   "execution_count": null,
   "metadata": {},
   "outputs": [],
   "source": [
    "df = pd.read_csv('file.csv')\n",
    "print(df)\n",
    "# não seria o esperado"
   ]
  },
  {
   "cell_type": "code",
   "execution_count": null,
   "metadata": {},
   "outputs": [],
   "source": [
    "df_1 = pd.read_csv('file.csv',sep=';')\n",
    "print(df_1)"
   ]
  },
  {
   "cell_type": "code",
   "execution_count": null,
   "metadata": {},
   "outputs": [],
   "source": [
    "df_1.drop(['Unnamed: 0','Unnamed: 0.1'], axis=1, inplace=True)\n",
    "\n",
    "print(df_1)"
   ]
  },
  {
   "cell_type": "code",
   "execution_count": null,
   "metadata": {},
   "outputs": [],
   "source": [
    "df_1.to_csv('file.csv', sep=',', index=False)"
   ]
  },
  {
   "cell_type": "code",
   "execution_count": null,
   "metadata": {},
   "outputs": [],
   "source": [
    "df = pd.read_csv('file.csv', index_col='id', header=0)\n",
    "print(df)"
   ]
  },
  {
   "cell_type": "code",
   "execution_count": null,
   "metadata": {},
   "outputs": [],
   "source": [
    "df = pd.read_csv('file.csv', index_col='id', header=0, na_values=['-',' '])\n",
    "\n",
    "print(df)"
   ]
  },
  {
   "cell_type": "markdown",
   "metadata": {},
   "source": [
    "### Carregar dados excel"
   ]
  },
  {
   "cell_type": "code",
   "execution_count": null,
   "metadata": {},
   "outputs": [],
   "source": [
    "df = pd.read_excel('https://joaomrcarvalho.github.io/datasets/dm/file.xlsx', index_col='id', header=0, na_values=['-',' '])\n",
    "\n",
    "df.to_excel('file.xlsx')\n",
    "\n",
    "print(df)"
   ]
  },
  {
   "cell_type": "code",
   "execution_count": null,
   "metadata": {
    "scrolled": true
   },
   "outputs": [],
   "source": [
    "print(df.info())"
   ]
  },
  {
   "cell_type": "code",
   "execution_count": null,
   "metadata": {},
   "outputs": [],
   "source": [
    "dtype = {'x1':str, 'x2':object, 'x3':int} \n",
    "\n",
    "df = pd.read_excel('file.xlsx', index_col='id', \n",
    "                   header=0, na_values=['-',' '], dtype=dtype)\n",
    "\n",
    "df.info()\n",
    "\n",
    "print(df)"
   ]
  },
  {
   "cell_type": "code",
   "execution_count": null,
   "metadata": {},
   "outputs": [],
   "source": [
    "df = pd.read_excel('file.xlsx', index_col='id', header=0, \n",
    "                   na_values=['-',' '], \n",
    "                   names=['column_1','column_2','column_3'])\n",
    "\n",
    "print(df)"
   ]
  },
  {
   "cell_type": "markdown",
   "metadata": {},
   "source": [
    "### Carregar dados json"
   ]
  },
  {
   "cell_type": "code",
   "execution_count": null,
   "metadata": {},
   "outputs": [],
   "source": [
    "df = pd.read_json(\"https://joaomrcarvalho.github.io/datasets/dm/file_json_1.json\")\n",
    "\n",
    "print(df.head())\n",
    "\n",
    "print('--------------------------------------------------------------------------------------------------------')\n",
    "\n",
    "df = pd.read_json(\"https://joaomrcarvalho.github.io/datasets/dm/file_json_2.json\")\n",
    "\n",
    "print(df.head())\n",
    "\n",
    "print('--------------------------------------------------------------------------------------------------------')\n",
    "\n",
    "print(df.info())"
   ]
  },
  {
   "cell_type": "code",
   "execution_count": null,
   "metadata": {},
   "outputs": [],
   "source": [
    "df.to_json(\"file_json_2.json\")\n",
    "\n",
    "df.to_json(\"file_json_2.gz\", compression='gzip')\n",
    "\n",
    "\n",
    "df = pd.read_json(\"file_json_2.gz\")\n",
    "\n",
    "print(df)"
   ]
  },
  {
   "cell_type": "code",
   "execution_count": null,
   "metadata": {},
   "outputs": [],
   "source": [
    "df = pd.read_json(\"file_json_2.json\")\n",
    "\n",
    "\n",
    "#{\n",
    "#    \"0\":{\"category\":0,\"datetime\":1420070400000,\"integer\":5},\n",
    "#    \"1\":{\"category\":0,\"datetime\":1420070401000,\"integer\":5}\n",
    "#}\n",
    "df.to_json('file_1.json',orient='index')\n",
    "\n",
    "\n",
    "\n",
    "#[\n",
    "#    {\"category\":0,\"datetime\":1420070400000,\"integer\":5},\n",
    "#    {\"category\":0,\"datetime\":1420070401000,\"integer\":5}\n",
    "#]\n",
    "df.to_json('file_2.json',orient='records')\n",
    "\n",
    "#{\n",
    "# \"category\":{\"0\":0,\"1\":0},\n",
    "# \"datetime\":{\"0\":1420070400000,\"1\":1420070401000},\n",
    "# \"integer\":{\"0\":5,\"1\":5}\n",
    "#}\n",
    "df.to_json('file_3.json',orient='columns')"
   ]
  },
  {
   "cell_type": "code",
   "execution_count": null,
   "metadata": {},
   "outputs": [],
   "source": [
    "df = pd.read_json(\"file_json_2.json\", encoding='ascii')\n",
    "print(df.head())\n",
    "print(\"--------------------------------------\")\n",
    "\n",
    "df = pd.read_json(\"file_json_2.json\", encoding='latin-1')\n",
    "print(df.head())\n",
    "print(\"--------------------------------------\")\n",
    "\n",
    "df = pd.read_json(\"file_json_2.json\", encoding='utf-8')\n",
    "print(df.head())"
   ]
  },
  {
   "cell_type": "markdown",
   "metadata": {},
   "source": [
    "## Formatos para Big Data"
   ]
  },
  {
   "cell_type": "markdown",
   "metadata": {},
   "source": [
    "### Parquet"
   ]
  },
  {
   "cell_type": "code",
   "execution_count": null,
   "metadata": {},
   "outputs": [],
   "source": [
    "# !pip install pyarrow\n",
    "\n",
    "!wget https://joaomrcarvalho.github.io/datasets/dm/parquet/adult.data\n",
    "    \n",
    "df = pd.read_csv('adult.data')\n",
    "\n",
    "df.to_parquet('adult.snappy.parquet', engine='auto', compression='snappy')"
   ]
  },
  {
   "cell_type": "code",
   "execution_count": null,
   "metadata": {},
   "outputs": [],
   "source": [
    "!ls -l"
   ]
  },
  {
   "cell_type": "code",
   "execution_count": null,
   "metadata": {},
   "outputs": [],
   "source": [
    "import pyarrow.parquet as pq\n",
    "\n",
    "data = pq.read_pandas('adult.snappy.parquet', columns=['age','education','capital-gain']).to_pandas()\n",
    "\n",
    "print(data.head())"
   ]
  },
  {
   "cell_type": "code",
   "execution_count": null,
   "metadata": {},
   "outputs": [],
   "source": [
    "data = pq.read_pandas('adult.snappy.parquet',columns=['age','education','capital-gain'])\n",
    "\n",
    "pq.write_to_dataset(data, root_path='parquet_dataset', partition_cols=['age'])"
   ]
  },
  {
   "cell_type": "markdown",
   "metadata": {},
   "source": [
    "## Dados web"
   ]
  },
  {
   "cell_type": "markdown",
   "metadata": {},
   "source": [
    "### HTML"
   ]
  },
  {
   "cell_type": "code",
   "execution_count": null,
   "metadata": {},
   "outputs": [],
   "source": [
    "data = pd.read_html('https://joaomrcarvalho.github.io/datasets/dm/web_data/simple_tables.html')\n",
    "\n",
    "print(data)\n",
    "\n",
    "print('-------------------------------------------------------------------------')\n",
    "\n",
    "print(data[0])\n",
    "\n",
    "print('-------------------------------------------------------------------------')\n",
    "\n",
    "print(data[1])"
   ]
  },
  {
   "cell_type": "code",
   "execution_count": null,
   "metadata": {},
   "outputs": [],
   "source": [
    "data = pd.read_html('https://joaomrcarvalho.github.io/datasets/dm/web_data/simple_tables.html',header=0)\n",
    "\n",
    "print(data[1])"
   ]
  },
  {
   "cell_type": "code",
   "execution_count": null,
   "metadata": {},
   "outputs": [],
   "source": [
    "data = pd.read_html('https://joaomrcarvalho.github.io/datasets/dm/web_data/simple_tables.html',header=0,flavor='bs4')\n",
    "\n",
    "print(data[1])"
   ]
  },
  {
   "cell_type": "code",
   "execution_count": null,
   "metadata": {},
   "outputs": [],
   "source": [
    "data = pd.read_html('https://joaomrcarvalho.github.io/datasets/dm/web_data/simple_tables.html', match=\"x2\", header=0, flavor='bs4')\n",
    "\n",
    "print(data)"
   ]
  },
  {
   "cell_type": "markdown",
   "metadata": {},
   "source": [
    "**Exemplo 1 (Wikipedia):**"
   ]
  },
  {
   "cell_type": "code",
   "execution_count": null,
   "metadata": {},
   "outputs": [],
   "source": [
    "data = pd.read_html('https://en.wikipedia.org/wiki/Python_(programming_language)', header=0, flavor='bs4')\n",
    "\n",
    "# escolher a tabela \"Summary of Python 3's built-in types\" da página\n",
    "print(data[1])"
   ]
  },
  {
   "cell_type": "markdown",
   "metadata": {},
   "source": [
    "**Exemplo 2 (Moedas):**"
   ]
  },
  {
   "cell_type": "code",
   "execution_count": null,
   "metadata": {},
   "outputs": [],
   "source": [
    "data = pd.read_html('https://www.fnb.co.za/Controller?nav=rates.forex.list.ForexRatesList', header=0, flavor='bs4')\n",
    "\n",
    "print(data[1])"
   ]
  },
  {
   "cell_type": "markdown",
   "metadata": {},
   "source": [
    "**Sugestão de exercicio**: Escolher outra página da web, carregar os dados da mesma e salvar em formato csv, json ou parquet."
   ]
  },
  {
   "cell_type": "markdown",
   "metadata": {},
   "source": [
    "### Aceder a APIs "
   ]
  },
  {
   "cell_type": "code",
   "execution_count": null,
   "metadata": {},
   "outputs": [],
   "source": [
    "import requests\n",
    "import json\n",
    "\n",
    "with open('api_example.json','w') as file:\n",
    "    \n",
    "    r =  requests.get('https://api.coinmarketcap.com/v1/ticker/?limit=50')\n",
    "    js = r.json()\n",
    "    \n",
    "    json.dump(js,file)\n",
    "    \n",
    "data = pd.read_json('api_example.json',orient='records')\n",
    "\n",
    "print(data.head())"
   ]
  },
  {
   "cell_type": "code",
   "execution_count": null,
   "metadata": {},
   "outputs": [],
   "source": [
    "import requests\n",
    "import json\n",
    "\n",
    "r =  requests.get('https://api.coinmarketcap.com/v1/ticker/?limit=50')\n",
    "\n",
    "js = r.json()\n",
    "\n",
    "data = pd.DataFrame(js)\n",
    "\n",
    "print(data.head())"
   ]
  },
  {
   "cell_type": "code",
   "execution_count": null,
   "metadata": {},
   "outputs": [],
   "source": [
    "data = pd.read_json('https://api.coinmarketcap.com/v1/ticker/?limit=50',orient='records')\n",
    "\n",
    "print(data.head())"
   ]
  }
 ],
 "metadata": {
  "kernelspec": {
   "display_name": "Python 3",
   "language": "python",
   "name": "python3"
  },
  "language_info": {
   "codemirror_mode": {
    "name": "ipython",
    "version": 3
   },
   "file_extension": ".py",
   "mimetype": "text/x-python",
   "name": "python",
   "nbconvert_exporter": "python",
   "pygments_lexer": "ipython3",
   "version": "3.7.1"
  }
 },
 "nbformat": 4,
 "nbformat_minor": 2
}
