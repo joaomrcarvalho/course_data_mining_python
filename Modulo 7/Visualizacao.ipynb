{
 "cells": [
  {
   "cell_type": "markdown",
   "metadata": {},
   "source": [
    "# Visualização dos dados"
   ]
  },
  {
   "cell_type": "markdown",
   "metadata": {},
   "source": [
    "![alt text](https://joaomrcarvalho.github.io/images/1_QVXJVEQ9Nz_uvq1GJIsU2Q.png)"
   ]
  },
  {
   "cell_type": "code",
   "execution_count": null,
   "metadata": {},
   "outputs": [],
   "source": [
    "import pandas as pd\n",
    "import matplotlib.pyplot as plt\n",
    "import numpy as np\n",
    "%matplotlib inline"
   ]
  },
  {
   "cell_type": "markdown",
   "metadata": {},
   "source": [
    "## Uma introdução ao matplotlib.pyplot"
   ]
  },
  {
   "cell_type": "code",
   "execution_count": null,
   "metadata": {},
   "outputs": [],
   "source": [
    "data = pd.read_csv('https://joaomrcarvalho.github.io/datasets/dm/iris.data',names=['x1','x2','x3','x4','species'])"
   ]
  },
  {
   "cell_type": "code",
   "execution_count": null,
   "metadata": {},
   "outputs": [],
   "source": [
    "fig,axis = plt.subplots(2,3)\n",
    "\n",
    "print(axis)\n",
    "\n",
    "print(\"---------------------------------------\")\n",
    "\n",
    "print(fig)"
   ]
  },
  {
   "cell_type": "code",
   "execution_count": null,
   "metadata": {},
   "outputs": [],
   "source": [
    "axis[0,0].scatter(data['x1'],data['x2'])\n",
    "\n",
    "fig"
   ]
  },
  {
   "cell_type": "code",
   "execution_count": null,
   "metadata": {},
   "outputs": [],
   "source": [
    "from itertools import combinations\n",
    "\n",
    "cols = list(combinations(data.columns[:-1],2))\n",
    "\n",
    "print(cols)\n",
    "\n",
    "print('--------------------------------------------------------------------------------------------------')\n",
    "\n",
    "# vamos iterar por todas as figuras\n",
    "count = 0\n",
    "for i in range(len(axis)):\n",
    "    for j in range(len(axis[i])):\n",
    "        axis[i,j].scatter(data[cols[count][0]], data[cols[count][1]])\n",
    "        count += 1\n",
    "\n",
    "fig"
   ]
  },
  {
   "cell_type": "code",
   "execution_count": null,
   "metadata": {},
   "outputs": [],
   "source": [
    "labels = list(set(data['species']))\n",
    "\n",
    "f = lambda x: labels.index(x)"
   ]
  },
  {
   "cell_type": "code",
   "execution_count": null,
   "metadata": {},
   "outputs": [],
   "source": [
    "count = 0\n",
    "for i in range(len(axis)):\n",
    "    for j in range(len(axis[i])):\n",
    "        axis[i,j].scatter(data[cols[count][0]],data[cols[count][1]],c=[f(x) for x in data['species']])\n",
    "        count += 1\n",
    "        \n",
    "fig"
   ]
  },
  {
   "cell_type": "code",
   "execution_count": null,
   "metadata": {
    "scrolled": true
   },
   "outputs": [],
   "source": [
    "fig,axis = plt.subplots(2,3)\n",
    "\n",
    "fig.subplots_adjust(hspace=0.5,wspace=0.5)\n",
    "\n",
    "count = 0\n",
    "for i in range(len(axis)):\n",
    "    for j in range(len(axis[i])):\n",
    "        axis[i,j].scatter(data[cols[count][0]],data[cols[count][1]],c=[f(x) for x in data['species']])\n",
    "        count += 1"
   ]
  },
  {
   "cell_type": "code",
   "execution_count": null,
   "metadata": {},
   "outputs": [],
   "source": [
    "fig,axis = plt.subplots(2,3,figsize=(15,7))\n",
    "\n",
    "fig.subplots_adjust(hspace=0.5,wspace=0.5)\n",
    "\n",
    "fig.suptitle('Variáveis do conjunto de dados Iris')\n",
    "\n",
    "fig.subplots_adjust(top=0.9)\n",
    "\n",
    "\n",
    "count = 0\n",
    "for i in range(len(axis)):\n",
    "    for j in range(len(axis[i])):\n",
    "        axis[i,j].scatter(data[cols[count][0]],data[cols[count][1]],c=[f(x) for x in data['species']])\n",
    "        \n",
    "        # colocamos a legenda no eixo x\n",
    "        axis[i,j].set_xlabel(cols[count][0])\n",
    "        \n",
    "        # colocamos a legenda no eixo x\n",
    "        axis[i,j].set_ylabel(cols[count][1])\n",
    "\n",
    "        count += 1"
   ]
  },
  {
   "cell_type": "code",
   "execution_count": null,
   "metadata": {},
   "outputs": [],
   "source": [
    "fig,axis = plt.subplots(2,3,figsize=(15,7))\n",
    "fig.subplots_adjust(hspace=0.5,wspace=0.5)\n",
    "fig.suptitle('Variáveis do conjunto de dados Iris')\n",
    "fig.subplots_adjust(top=0.9)\n",
    "\n",
    "count = 0\n",
    "for i in range(len(axis)):\n",
    "    for j in range(len(axis[i])):\n",
    "        # única linha alterada:\n",
    "        axis[i,j].scatter(data[cols[count][0]],data[cols[count][1]],c=[f(x) for x in data['species']],alpha=0.75,s=50)\n",
    "        \n",
    "        axis[i,j].set_xlabel(cols[count][0])\n",
    "        axis[i,j].set_ylabel(cols[count][1])\n",
    "        \n",
    "        count += 1"
   ]
  },
  {
   "cell_type": "markdown",
   "metadata": {},
   "source": [
    "## Gráficos de uma variável"
   ]
  },
  {
   "cell_type": "markdown",
   "metadata": {},
   "source": [
    "### BoxPlot "
   ]
  },
  {
   "cell_type": "code",
   "execution_count": null,
   "metadata": {},
   "outputs": [],
   "source": [
    "data = pd.read_csv('https://joaomrcarvalho.github.io/datasets/dm/iris.data',names=['x1','x2','x3','x4','species'])\n",
    "\n",
    "data['x1'].plot.box()"
   ]
  },
  {
   "cell_type": "code",
   "execution_count": null,
   "metadata": {
    "scrolled": true
   },
   "outputs": [],
   "source": [
    "color = {'boxes': 'DarkGreen', 'whiskers': 'DarkOrange',\n",
    "         'medians': 'DarkBlue', 'caps': 'Gray'}\n",
    "\n",
    "data['x1'].plot.box(color=color)"
   ]
  },
  {
   "cell_type": "code",
   "execution_count": null,
   "metadata": {},
   "outputs": [],
   "source": [
    "data['x1'].plot.box(color=color,vert=False)"
   ]
  },
  {
   "cell_type": "markdown",
   "metadata": {},
   "source": [
    "### Histogramas  "
   ]
  },
  {
   "cell_type": "code",
   "execution_count": null,
   "metadata": {},
   "outputs": [],
   "source": [
    "data['x1'].plot.hist(bins=25)"
   ]
  },
  {
   "cell_type": "code",
   "execution_count": null,
   "metadata": {},
   "outputs": [],
   "source": [
    "data['x1'].plot.hist(bins=25,cumulative=True)"
   ]
  },
  {
   "cell_type": "code",
   "execution_count": null,
   "metadata": {},
   "outputs": [],
   "source": [
    "data['x1'].plot.hist(bins=25,rwidth=0.9)"
   ]
  },
  {
   "cell_type": "markdown",
   "metadata": {},
   "source": [
    "### Desenhar a distribuição dos dados (KDE)"
   ]
  },
  {
   "cell_type": "code",
   "execution_count": null,
   "metadata": {},
   "outputs": [],
   "source": [
    "data['x2'].plot.kde()\n",
    "\n",
    "mean_val = np.mean(data['x2'])\n",
    "\n",
    "plt.axvline(mean_val, linestyle='dashed', linewidth=2,c='g')\n",
    "\n",
    "plt.legend([\"density\",\"mean\"])"
   ]
  },
  {
   "cell_type": "code",
   "execution_count": null,
   "metadata": {},
   "outputs": [],
   "source": [
    "data['x2'].plot.kde()\n",
    "\n",
    "mean_val = np.mean(data['x2'])\n",
    "\n",
    "median_val = np.median(data['x2'])\n",
    "\n",
    "plt.axvline(mean_val, linestyle='dashed', linewidth=2,c='g')\n",
    "plt.axvline(median_val, linestyle='dashed', linewidth=2,c='r')\n",
    "plt.legend([\"density\",\"mean\",\"median\"])"
   ]
  },
  {
   "cell_type": "markdown",
   "metadata": {},
   "source": [
    "**Sugestão de Exercício:** Desenhar a distribuição das outras variáveis do dataset e analisar a relação da média com a mediana/comparar este boxplot com o das restantes variáveis."
   ]
  },
  {
   "cell_type": "markdown",
   "metadata": {},
   "source": [
    "## Séries Temporais com uma única variável independente"
   ]
  },
  {
   "cell_type": "code",
   "execution_count": null,
   "metadata": {},
   "outputs": [],
   "source": [
    "# !wget 'https://joaomrcarvalho.github.io/datasets/dm/coinbaseUSD_1-min_data_2014-12-01_to_2019-01-09.zip'\n",
    "# !unzip 'coinbaseUSD_1-min_data_2014-12-01_to_2019-01-09.zip'\n",
    "\n",
    "data = pd.read_csv('coinbaseUSD_1-min_data_2014-12-01_to_2019-01-09.csv')\n",
    "\n",
    "data.head(10)"
   ]
  },
  {
   "cell_type": "code",
   "execution_count": null,
   "metadata": {},
   "outputs": [],
   "source": [
    "from datetime import datetime\n",
    "\n",
    "data.dropna(inplace=True) \n",
    "\n",
    "data['date'] = [datetime.fromtimestamp(x) for x in data['Timestamp']]\n",
    "\n",
    "data.head(10)"
   ]
  },
  {
   "cell_type": "code",
   "execution_count": null,
   "metadata": {},
   "outputs": [],
   "source": [
    "btc_data = data['Weighted_Price'].copy()\n",
    "\n",
    "btc_data.index = data['date'].copy()\n",
    "\n",
    "btc_data.head()"
   ]
  },
  {
   "cell_type": "code",
   "execution_count": null,
   "metadata": {},
   "outputs": [],
   "source": [
    "btc_data.plot(figsize=(20,8))"
   ]
  },
  {
   "cell_type": "code",
   "execution_count": null,
   "metadata": {
    "scrolled": true
   },
   "outputs": [],
   "source": [
    "# vamos desenhar apenas um intervalo com 10000 minutos:\n",
    "btc_data[10000:20000].plot(figsize=(20,6),style='k.')"
   ]
  },
  {
   "cell_type": "code",
   "execution_count": null,
   "metadata": {},
   "outputs": [],
   "source": [
    "groups = btc_data.groupby(pd.Grouper(freq = 'A'))\n",
    "\n",
    "groups.plot(figsize=(20,7))"
   ]
  },
  {
   "cell_type": "code",
   "execution_count": null,
   "metadata": {
    "scrolled": false
   },
   "outputs": [],
   "source": [
    "years = pd.DataFrame()\n",
    "\n",
    "fig,ax = plt.subplots(groups.ngroups,figsize=(15,13)) \n",
    "\n",
    "fig.subplots_adjust(hspace=0.5)\n",
    "\n",
    "i = 0\n",
    "for name, group in groups:\n",
    "    ax[i].plot(group.index,group.values,c='r')\n",
    "    i += 1\n",
    "    "
   ]
  },
  {
   "cell_type": "code",
   "execution_count": null,
   "metadata": {},
   "outputs": [],
   "source": [
    "btc_data_2018 = btc_data[btc_data.index.year == 2018]\n",
    "\n",
    "group_2018 = btc_data_2018.groupby(pd.Grouper(freq='M'))"
   ]
  },
  {
   "cell_type": "code",
   "execution_count": null,
   "metadata": {},
   "outputs": [],
   "source": [
    "months = pd.DataFrame()\n",
    "\n",
    "for name, group in group_2018:\n",
    "    next_month = pd.Series(group.values,name=name.month)\n",
    "    \n",
    "    months = pd.concat([months,next_month],axis=1)\n",
    "\n",
    "months.head()"
   ]
  },
  {
   "cell_type": "code",
   "execution_count": null,
   "metadata": {
    "scrolled": true
   },
   "outputs": [],
   "source": [
    "months.plot.box(grid=True)"
   ]
  },
  {
   "cell_type": "code",
   "execution_count": null,
   "metadata": {},
   "outputs": [],
   "source": [
    "pd.plotting.lag_plot(btc_data)"
   ]
  },
  {
   "cell_type": "code",
   "execution_count": null,
   "metadata": {},
   "outputs": [],
   "source": [
    "pd.plotting.lag_plot(btc_data, lag=60)"
   ]
  },
  {
   "cell_type": "code",
   "execution_count": null,
   "metadata": {},
   "outputs": [],
   "source": [
    "btc_data_2018_m3 = btc_data[(btc_data.index.year == 2018) & (btc_data.index.month == 3) ]\n",
    "\n",
    "pd.plotting.autocorrelation_plot(btc_data_2018_m3)"
   ]
  },
  {
   "cell_type": "markdown",
   "metadata": {},
   "source": [
    "**Sugestão de Exercício:** Explorar a autocorrelação para os restantes meses desse ano (ou de outros).\n",
    "\n",
    "**Sugestão de Exercício 2:** Ver o que aconteceu com o valor da criptomoeda bitcoin nesse período de tempo e justificar o porquê de a autocorrelação se comportar assim."
   ]
  },
  {
   "cell_type": "markdown",
   "metadata": {},
   "source": [
    "## Gráficos de duas variáveis"
   ]
  },
  {
   "cell_type": "markdown",
   "metadata": {},
   "source": [
    "### Variável discreta vs variável contínua "
   ]
  },
  {
   "cell_type": "code",
   "execution_count": null,
   "metadata": {},
   "outputs": [],
   "source": [
    "in_data = pd.read_csv('https://joaomrcarvalho.github.io/datasets/dm/iris.data',names=['x1','x2','x3','x4','species'])\n",
    "data = in_data[['x2','species']]"
   ]
  },
  {
   "cell_type": "code",
   "execution_count": null,
   "metadata": {},
   "outputs": [],
   "source": [
    "group = data.groupby('species')"
   ]
  },
  {
   "cell_type": "code",
   "execution_count": null,
   "metadata": {},
   "outputs": [],
   "source": [
    "group.plot(kind='kde')"
   ]
  },
  {
   "cell_type": "code",
   "execution_count": null,
   "metadata": {},
   "outputs": [],
   "source": [
    "group.plot(kind='box')"
   ]
  },
  {
   "cell_type": "code",
   "execution_count": null,
   "metadata": {},
   "outputs": [],
   "source": [
    "agg_data = data.groupby('species').agg(['mean','median'])\n",
    "\n",
    "agg_data.plot.bar()"
   ]
  },
  {
   "cell_type": "markdown",
   "metadata": {},
   "source": [
    "### Variável contínua vs variável contínua  "
   ]
  },
  {
   "cell_type": "code",
   "execution_count": null,
   "metadata": {},
   "outputs": [],
   "source": [
    "data = in_data[['x1','x3']]\n",
    "\n",
    "data.plot(kind='scatter',x='x1',y='x3')"
   ]
  },
  {
   "cell_type": "code",
   "execution_count": null,
   "metadata": {},
   "outputs": [],
   "source": [
    "coefs = np.polyfit(data['x1'],data['x3'],deg=1)\n",
    "\n",
    "f = np.poly1d(coefs)"
   ]
  },
  {
   "cell_type": "code",
   "execution_count": null,
   "metadata": {
    "scrolled": true
   },
   "outputs": [],
   "source": [
    "x = np.arange(round(data['x1'].min() - 1),round(data['x1'].max() + 1))\n",
    "\n",
    "line = f(x)\n",
    "\n",
    "data.plot(kind='scatter',x='x1',y='x3')\n",
    "\n",
    "plt.plot(x,line,c='r')"
   ]
  },
  {
   "cell_type": "code",
   "execution_count": null,
   "metadata": {},
   "outputs": [],
   "source": [
    "data.plot(x='x1',y='x3',kind='hexbin',gridsize=7)\n",
    "data.plot(kind='scatter',x='x1',y='x3') "
   ]
  },
  {
   "cell_type": "markdown",
   "metadata": {},
   "source": [
    "### Variável discreta vs Variável discreta"
   ]
  },
  {
   "cell_type": "code",
   "execution_count": null,
   "metadata": {},
   "outputs": [],
   "source": [
    "data = pd.read_csv('https://joaomrcarvalho.github.io/datasets/dm/auto-mpg.data', delim_whitespace=True, header=None,\n",
    "            names = ['mpg', 'cylinders', 'displacement','horsepower',\n",
    "            'weight', 'acceleration', 'model_year', 'origin', 'name'],\n",
    "            na_values='?')\n",
    "\n",
    "data = data[['cylinders','model_year']]\n",
    "\n",
    "data.head()"
   ]
  },
  {
   "cell_type": "code",
   "execution_count": null,
   "metadata": {},
   "outputs": [],
   "source": [
    "crostab = pd.crosstab(index = data['model_year'],columns=data['cylinders'])\n",
    "\n",
    "crostab.head()"
   ]
  },
  {
   "cell_type": "code",
   "execution_count": null,
   "metadata": {},
   "outputs": [],
   "source": [
    "crostab.plot.bar(figsize=(20,7))"
   ]
  },
  {
   "cell_type": "code",
   "execution_count": null,
   "metadata": {},
   "outputs": [],
   "source": [
    "from statsmodels.graphics.mosaicplot import mosaic\n",
    "\n",
    "data = pd.read_csv('https://joaomrcarvalho.github.io/datasets/dm/adult.data')\n",
    "\n",
    "fig,ax = plt.subplots(figsize=(20,5))\n",
    "\n",
    "mosaic(data,['race','sex'],ax=ax)\n",
    "\n",
    "plt.show()"
   ]
  },
  {
   "cell_type": "markdown",
   "metadata": {},
   "source": [
    "## Gráficos de várias variáveis"
   ]
  },
  {
   "cell_type": "code",
   "execution_count": null,
   "metadata": {},
   "outputs": [],
   "source": [
    "from sklearn.datasets import load_digits\n",
    "\n",
    "digits = load_digits()\n",
    "\n",
    "data = digits['data']\n",
    "\n",
    "labels = digits['target']\n",
    "\n",
    "print(data.shape)"
   ]
  },
  {
   "cell_type": "code",
   "execution_count": null,
   "metadata": {},
   "outputs": [],
   "source": [
    "from sklearn.decomposition import PCA \n",
    "\n",
    "pca = PCA(n_components=3)\n",
    "\n",
    "reduced_data = pca.fit_transform(data)\n",
    "\n",
    "print(reduced_data)"
   ]
  },
  {
   "cell_type": "code",
   "execution_count": null,
   "metadata": {},
   "outputs": [],
   "source": [
    "from mpl_toolkits.mplot3d import Axes3D \n",
    "\n",
    "fig = plt.figure(figsize=(10,10)) \n",
    "\n",
    "ax = fig.add_subplot(111, projection='3d')\n",
    "\n",
    "ax.scatter(reduced_data[:,0],reduced_data[:,1],reduced_data[:,2],c=labels)"
   ]
  },
  {
   "cell_type": "markdown",
   "metadata": {},
   "source": [
    "**Sugestão de Exercício**: Aplicar o T-SNE nos dados e desenhar o resultado. "
   ]
  },
  {
   "cell_type": "markdown",
   "metadata": {},
   "source": [
    "### Representar matrizes de gráficos"
   ]
  },
  {
   "cell_type": "code",
   "execution_count": null,
   "metadata": {
    "scrolled": true
   },
   "outputs": [],
   "source": [
    "data = pd.read_csv('https://joaomrcarvalho.github.io/datasets/dm/iris.data',names=['x1','x2','x3','x4','species'])\n",
    "\n",
    "data.head()"
   ]
  },
  {
   "cell_type": "code",
   "execution_count": null,
   "metadata": {},
   "outputs": [],
   "source": [
    "pd.plotting.scatter_matrix(data,figsize=(10,10))\n",
    "\n",
    "plt.show()"
   ]
  },
  {
   "cell_type": "code",
   "execution_count": null,
   "metadata": {},
   "outputs": [],
   "source": [
    "labels = list(set(data['species']))\n",
    "\n",
    "f = lambda x: labels.index(x)\n",
    "\n",
    "colors = data['species'].apply(f)\n",
    "\n",
    "pd.plotting.scatter_matrix(data,figsize=(10,10),c=colors)\n",
    "\n",
    "plt.show()"
   ]
  },
  {
   "cell_type": "code",
   "execution_count": null,
   "metadata": {},
   "outputs": [],
   "source": [
    "pd.plotting.scatter_matrix(data,figsize=(10,10),c=colors,diagonal='kde')\n",
    "plt.show()"
   ]
  }
 ],
 "metadata": {
  "kernelspec": {
   "display_name": "Python 3",
   "language": "python",
   "name": "python3"
  },
  "language_info": {
   "codemirror_mode": {
    "name": "ipython",
    "version": 3
   },
   "file_extension": ".py",
   "mimetype": "text/x-python",
   "name": "python",
   "nbconvert_exporter": "python",
   "pygments_lexer": "ipython3",
   "version": "3.7.1"
  }
 },
 "nbformat": 4,
 "nbformat_minor": 2
}
