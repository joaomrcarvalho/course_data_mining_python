{
 "cells": [
  {
   "cell_type": "markdown",
   "metadata": {},
   "source": [
    "# Noções de Estatística"
   ]
  },
  {
   "cell_type": "markdown",
   "metadata": {},
   "source": [
    "![alt text](https://joaomrcarvalho.github.io/images/Figure4.14.jpg)"
   ]
  },
  {
   "cell_type": "code",
   "execution_count": null,
   "metadata": {},
   "outputs": [],
   "source": [
    "import pandas as pd\n",
    "import numpy as np\n",
    "import matplotlib.pyplot as plt\n",
    "%matplotlib inline"
   ]
  },
  {
   "cell_type": "markdown",
   "metadata": {},
   "source": [
    "## Frequências "
   ]
  },
  {
   "cell_type": "markdown",
   "metadata": {},
   "source": [
    "### Frequência absoluta"
   ]
  },
  {
   "cell_type": "code",
   "execution_count": null,
   "metadata": {},
   "outputs": [],
   "source": [
    "data = pd.read_csv('https://joaomrcarvalho.github.io/datasets/dm/adult.data')\n",
    "\n",
    "data.head()"
   ]
  },
  {
   "cell_type": "code",
   "execution_count": null,
   "metadata": {},
   "outputs": [],
   "source": [
    "print(data['education'].value_counts())\n",
    "\n",
    "print('----------------------------------------------------------')\n",
    "\n",
    "print(pd.crosstab(index = data['education'],columns='count'))"
   ]
  },
  {
   "cell_type": "code",
   "execution_count": null,
   "metadata": {},
   "outputs": [],
   "source": [
    "freq_tab = pd.crosstab(index = data['education'],columns='count')\n",
    "\n",
    "print(freq_tab)\n",
    "\n",
    "print('--------------------------------------------------------------------------')\n",
    "\n",
    "freq_tab = pd.crosstab(index = data['education'],columns='count',normalize=True)\n",
    "print(freq_tab)"
   ]
  },
  {
   "cell_type": "code",
   "execution_count": null,
   "metadata": {},
   "outputs": [],
   "source": [
    "freq_tab.plot.bar()"
   ]
  },
  {
   "cell_type": "code",
   "execution_count": null,
   "metadata": {},
   "outputs": [],
   "source": [
    "freq_tab = pd.crosstab(index = data['education'],columns=data['sex'])\n",
    "\n",
    "freq_tab "
   ]
  },
  {
   "cell_type": "code",
   "execution_count": null,
   "metadata": {},
   "outputs": [],
   "source": [
    "pd.crosstab(index = data['education'], columns=data['sex'], normalize='index')"
   ]
  },
  {
   "cell_type": "code",
   "execution_count": null,
   "metadata": {},
   "outputs": [],
   "source": [
    "pd.crosstab(index = data['education'],columns=data['sex'],normalize='columns')\n"
   ]
  },
  {
   "cell_type": "code",
   "execution_count": null,
   "metadata": {},
   "outputs": [],
   "source": [
    "freq_tab = pd.crosstab(index = data['education'],columns=data['sex'],normalize='all')\n",
    "\n",
    "freq_tab"
   ]
  },
  {
   "cell_type": "code",
   "execution_count": null,
   "metadata": {},
   "outputs": [],
   "source": [
    "freq_tab = pd.crosstab(index = data['education'],columns=data['sex'],normalize='all',margins=True)\n",
    "freq_tab"
   ]
  },
  {
   "cell_type": "code",
   "execution_count": null,
   "metadata": {
    "scrolled": true
   },
   "outputs": [],
   "source": [
    "freq_tab = pd.crosstab(index = [data['sex'],data['race']], columns=data['education'],margins=True)\n",
    "\n",
    "freq_tab"
   ]
  },
  {
   "cell_type": "code",
   "execution_count": null,
   "metadata": {},
   "outputs": [],
   "source": [
    "freq_tab.loc[' Female'] "
   ]
  },
  {
   "cell_type": "code",
   "execution_count": null,
   "metadata": {},
   "outputs": [],
   "source": [
    "freq_tab[' Bachelors']"
   ]
  },
  {
   "cell_type": "code",
   "execution_count": null,
   "metadata": {},
   "outputs": [],
   "source": [
    "print(data.head())\n",
    "\n",
    "data['freq_fnlwgt'], bins = pd.cut(data['fnlwgt'], bins=30, labels=[x for x in range(30)], include_lowest=True, retbins=True)    \n",
    "\n",
    "print(data[['freq_fnlwgt','fnlwgt']].head(5))\n",
    "\n",
    "print('-------------------------------------------------------------------------------------------------------')\n",
    "\n",
    "print(bins)"
   ]
  },
  {
   "cell_type": "markdown",
   "metadata": {},
   "source": [
    "## Estatística descritiva"
   ]
  },
  {
   "cell_type": "markdown",
   "metadata": {},
   "source": [
    "### Medidas básicas"
   ]
  },
  {
   "cell_type": "code",
   "execution_count": null,
   "metadata": {},
   "outputs": [],
   "source": [
    "data = pd.read_csv('https://joaomrcarvalho.github.io/datasets/dm/adult.data')\n",
    "\n",
    "s_data = data[['age','occupation','capital-gain']]\n",
    "s_data.head()"
   ]
  },
  {
   "cell_type": "code",
   "execution_count": null,
   "metadata": {},
   "outputs": [],
   "source": [
    "s_data['capital-gain'].sum()"
   ]
  },
  {
   "cell_type": "code",
   "execution_count": null,
   "metadata": {},
   "outputs": [],
   "source": [
    "s_data[['capital-gain','age']].mean(skipna=True)"
   ]
  },
  {
   "cell_type": "markdown",
   "metadata": {},
   "source": [
    "**Sugestão de Exercício:** Separar os indivíduos por: quem recebe acima da média quem recebe abaixo da média. De seguida, calcular a idade média de cada grupo e ver se existe algum padrão."
   ]
  },
  {
   "cell_type": "code",
   "execution_count": null,
   "metadata": {},
   "outputs": [],
   "source": [
    "sorted_data = s_data.sort_values(by='age')\n",
    "\n",
    "print(sorted_data.head(5))\n",
    "\n",
    "print('-------------------------------------------------------------------------------------------')\n",
    "\n",
    "print(sorted_data.tail(5))"
   ]
  },
  {
   "cell_type": "code",
   "execution_count": null,
   "metadata": {},
   "outputs": [],
   "source": [
    "sorted_data['capital-gain-cum'] = sorted_data['capital-gain'].cumsum()\n",
    "\n",
    "sorted_data.plot.line(x='age',y='capital-gain-cum')"
   ]
  },
  {
   "cell_type": "code",
   "execution_count": null,
   "metadata": {},
   "outputs": [],
   "source": [
    "s_data.describe()"
   ]
  },
  {
   "cell_type": "code",
   "execution_count": null,
   "metadata": {
    "scrolled": true
   },
   "outputs": [],
   "source": [
    "s_data.describe(include='all')"
   ]
  },
  {
   "cell_type": "code",
   "execution_count": null,
   "metadata": {},
   "outputs": [],
   "source": [
    "print(s_data.count())\n",
    "\n",
    "print('-----------------------------------------------------------------------')\n",
    "\n",
    "print(s_data['age'].count())"
   ]
  },
  {
   "cell_type": "code",
   "execution_count": null,
   "metadata": {},
   "outputs": [],
   "source": [
    "print(s_data.max())\n",
    "\n",
    "print('------------------------------------------------------------------------------------------------------------')\n",
    "\n",
    "print(s_data.min())"
   ]
  },
  {
   "cell_type": "code",
   "execution_count": null,
   "metadata": {},
   "outputs": [],
   "source": [
    "print(s_data.median())\n",
    "\n",
    "print('---------------------------------------------------------------------------------')\n",
    "\n",
    "print(s_data['age'].median())"
   ]
  },
  {
   "cell_type": "code",
   "execution_count": null,
   "metadata": {},
   "outputs": [],
   "source": [
    "print(s_data['age'].var())"
   ]
  },
  {
   "cell_type": "code",
   "execution_count": null,
   "metadata": {},
   "outputs": [],
   "source": [
    "print(s_data['age'].var(ddof=0))"
   ]
  },
  {
   "cell_type": "code",
   "execution_count": null,
   "metadata": {},
   "outputs": [],
   "source": [
    "print(s_data['age'].std())"
   ]
  },
  {
   "cell_type": "code",
   "execution_count": null,
   "metadata": {},
   "outputs": [],
   "source": [
    "import numpy as np\n",
    "\n",
    "r_data = s_data.copy() \n",
    "\n",
    "r_data.drop(r_data[r_data['age'] >= 70].index,inplace=True)\n",
    "\n",
    "var_original = s_data['age'].var()\n",
    "var_copia = r_data['age'].var()\n",
    "\n",
    "print(var_original/var_copia)\n",
    "\n",
    "print('------------------------------------------------')\n",
    "\n",
    "std_original = s_data['age'].std()\n",
    "std_copia = r_data['age'].std()\n",
    "\n",
    "print(std_original/std_copia)"
   ]
  },
  {
   "cell_type": "markdown",
   "metadata": {},
   "source": [
    "### Introdução à Correlação"
   ]
  },
  {
   "cell_type": "code",
   "execution_count": null,
   "metadata": {},
   "outputs": [],
   "source": [
    "data = pd.read_csv('https://joaomrcarvalho.github.io/datasets/dm/auto-mpg.data', delim_whitespace=True, header=None,\n",
    "            names = ['mpg', 'cylinders', 'displacement','horsepower',\n",
    "            'weight', 'acceleration', 'model_year', 'origin', 'name'],\n",
    "            na_values='?')\n",
    "\n",
    "data.dropna(inplace=True)\n",
    "\n",
    "data.head()"
   ]
  },
  {
   "cell_type": "code",
   "execution_count": null,
   "metadata": {},
   "outputs": [],
   "source": [
    "# obtemos a covariância entre a variável 'displacement' e a variável 'horsepower'\n",
    "print(data['displacement'].cov(data['horsepower']))"
   ]
  },
  {
   "cell_type": "code",
   "execution_count": null,
   "metadata": {},
   "outputs": [],
   "source": [
    "data.plot.scatter(x='displacement',y='horsepower')"
   ]
  },
  {
   "cell_type": "code",
   "execution_count": null,
   "metadata": {
    "scrolled": true
   },
   "outputs": [],
   "source": [
    "print(data['displacement'].cov(data['mpg']))"
   ]
  },
  {
   "cell_type": "code",
   "execution_count": null,
   "metadata": {},
   "outputs": [],
   "source": [
    "data.plot.scatter(x='displacement',y='mpg')"
   ]
  },
  {
   "cell_type": "code",
   "execution_count": null,
   "metadata": {},
   "outputs": [],
   "source": [
    "print(data['mpg'].cov(data['acceleration']))\n",
    "\n",
    "data.plot.scatter(x='acceleration',y='mpg')"
   ]
  },
  {
   "cell_type": "code",
   "execution_count": null,
   "metadata": {},
   "outputs": [],
   "source": [
    "data.cov()"
   ]
  },
  {
   "cell_type": "code",
   "execution_count": null,
   "metadata": {},
   "outputs": [],
   "source": [
    "covm = data.cov()\n",
    "\n",
    "covm.style.background_gradient(cmap='coolwarm',axis=1)"
   ]
  },
  {
   "cell_type": "code",
   "execution_count": null,
   "metadata": {},
   "outputs": [],
   "source": [
    "print(data['displacement'].corr(data['horsepower'],method='pearson'))\n",
    "# Nota: o valor default para o parâmetro 'method' da função '.corr' já é pearson\n",
    "\n",
    "data.plot.scatter(x='displacement',y='horsepower')"
   ]
  },
  {
   "cell_type": "code",
   "execution_count": null,
   "metadata": {},
   "outputs": [],
   "source": [
    "print(data['displacement'].corr(data['mpg'],method='pearson'))\n",
    "\n",
    "data.plot.scatter(x='displacement',y='mpg')"
   ]
  },
  {
   "cell_type": "code",
   "execution_count": null,
   "metadata": {},
   "outputs": [],
   "source": [
    "print(data['mpg'].corr(data['acceleration'],method='pearson'))\n",
    "\n",
    "data.plot.scatter(x='acceleration',y='mpg')"
   ]
  },
  {
   "cell_type": "markdown",
   "metadata": {},
   "source": [
    "Tal como a covariância, também podemos obter a matriz de correlação de Pearson: "
   ]
  },
  {
   "cell_type": "code",
   "execution_count": null,
   "metadata": {},
   "outputs": [],
   "source": [
    "corr_m = data.corr()\n",
    "\n",
    "corr_m.style.background_gradient(cmap='coolwarm',axis=1)"
   ]
  },
  {
   "cell_type": "code",
   "execution_count": null,
   "metadata": {},
   "outputs": [],
   "source": [
    "# !wget 'https://joaomrcarvalho.github.io/datasets/dm/coinbaseUSD_1-min_data_2014-12-01_to_2019-01-09.zip'\n",
    "# !unzip 'coinbaseUSD_1-min_data_2014-12-01_to_2019-01-09.zip'\n",
    "\n",
    "df = pd.read_csv('coinbaseUSD_1-min_data_2014-12-01_to_2019-01-09.csv')\n",
    "\n",
    "# para o nosso caso, vamos apenas trabalhar com as variáveis 'Timestamp' e 'Open'\n",
    "data = df[['Timestamp','Open']]\n",
    "\n",
    "data.dropna(inplace=True)\n",
    "\n",
    "data.head()"
   ]
  },
  {
   "cell_type": "code",
   "execution_count": null,
   "metadata": {},
   "outputs": [],
   "source": [
    "data.plot.scatter(x='Timestamp',y='Open',figsize=(30,5))"
   ]
  },
  {
   "cell_type": "code",
   "execution_count": null,
   "metadata": {},
   "outputs": [],
   "source": [
    "data.iloc[-69900:-69800].plot.scatter(x='Timestamp',y='Open',figsize=(15,7))"
   ]
  },
  {
   "cell_type": "code",
   "execution_count": null,
   "metadata": {},
   "outputs": [],
   "source": [
    "# vamos ver quais as correlações utilizando apenas este pedaço dos dados\n",
    "chuck = data.iloc[-69900:-69800:].copy()\n",
    "\n",
    "print(chuck['Timestamp'].corr(chuck['Open'],method='pearson'))\n",
    "\n",
    "print(chuck['Timestamp'].corr(chuck['Open'],method='spearman'))"
   ]
  },
  {
   "cell_type": "code",
   "execution_count": null,
   "metadata": {},
   "outputs": [],
   "source": [
    "data.iloc[-69900:-69700].plot.scatter(x='Timestamp',y='Open',figsize=(15,7))"
   ]
  },
  {
   "cell_type": "code",
   "execution_count": null,
   "metadata": {},
   "outputs": [],
   "source": [
    "chuck = data.iloc[-69900:-69700:].copy()\n",
    "\n",
    "print(chuck['Timestamp'].corr(chuck['Open'],method='pearson'))\n",
    "print(chuck['Timestamp'].corr(chuck['Open'],method='spearman'))"
   ]
  },
  {
   "cell_type": "markdown",
   "metadata": {},
   "source": [
    "## Distribuições Estatísticas"
   ]
  },
  {
   "cell_type": "code",
   "execution_count": null,
   "metadata": {},
   "outputs": [],
   "source": [
    "space = np.random.randint(1,21,1000)\n",
    "\n",
    "print(space)"
   ]
  },
  {
   "cell_type": "code",
   "execution_count": null,
   "metadata": {},
   "outputs": [],
   "source": [
    "def pmf(vector):\n",
    "    pmd = []\n",
    "    value = 1\n",
    "    \n",
    "    while value <= max(vector):\n",
    "        \n",
    "        count = 0\n",
    "        for x in vector:\n",
    "            if x <= value:\n",
    "                count += 1\n",
    "        pmd.append(float(count)/len(vector))\n",
    "        value += 1\n",
    "    return pmd\n",
    "\n",
    "pmd = pmf(space)\n",
    "\n",
    "pmd"
   ]
  },
  {
   "cell_type": "code",
   "execution_count": null,
   "metadata": {
    "scrolled": true
   },
   "outputs": [],
   "source": [
    "plt.plot(range(len(pmd)),pmd)"
   ]
  },
  {
   "cell_type": "code",
   "execution_count": null,
   "metadata": {},
   "outputs": [],
   "source": [
    "events = pd.Series(space)\n",
    "\n",
    "events.plot.kde()"
   ]
  },
  {
   "cell_type": "markdown",
   "metadata": {},
   "source": [
    "### Distribuição de  Bernoulli "
   ]
  },
  {
   "cell_type": "code",
   "execution_count": null,
   "metadata": {},
   "outputs": [],
   "source": [
    "plt.bar([0,1],[0.5,0.5])"
   ]
  },
  {
   "cell_type": "code",
   "execution_count": null,
   "metadata": {},
   "outputs": [],
   "source": [
    "plt.bar([0,1],[0.02,0.98])"
   ]
  },
  {
   "cell_type": "markdown",
   "metadata": {},
   "source": [
    "### A distribuição uniforme "
   ]
  },
  {
   "cell_type": "code",
   "execution_count": null,
   "metadata": {},
   "outputs": [],
   "source": [
    "# vamos criar uma pd.Series contendo as várias bolas do saco\n",
    "balls_data = pd.Series([1,2,3,4,5,6,7,8,9,10,11,12])\n",
    "\n",
    "# vamos desenhar um histograma para analisarmos a distribuição da probabilidade dessa variável\n",
    "balls_data.plot.hist(bins=12)"
   ]
  },
  {
   "cell_type": "markdown",
   "metadata": {},
   "source": [
    "### A distribuição Binomial"
   ]
  },
  {
   "cell_type": "code",
   "execution_count": null,
   "metadata": {},
   "outputs": [],
   "source": [
    "# vamos definir a fórmula para esta distribuição\n",
    "from math import factorial\n",
    "\n",
    "def binomial(x, n, p):\n",
    "    return float(factorial(n)) / (factorial(x) * factorial(n - x)) * p ** x * (1 - p)**(n - x)"
   ]
  },
  {
   "cell_type": "code",
   "execution_count": null,
   "metadata": {},
   "outputs": [],
   "source": [
    "p_k = pd.Series([binomial(x,101,0.5) for x in range(1, 101)])\n",
    "\n",
    "p_k.index = range(1, 101)\n",
    "\n",
    "p_k.plot.bar(figsize=(17,8))"
   ]
  },
  {
   "cell_type": "code",
   "execution_count": null,
   "metadata": {},
   "outputs": [],
   "source": [
    "p_k = pd.Series([binomial(x,101,0.16666667) for x in range(1,101)])\n",
    "p_k.index = range(1,101)\n",
    "\n",
    "p_k.plot.bar(figsize=(17,8))"
   ]
  },
  {
   "cell_type": "markdown",
   "metadata": {},
   "source": [
    "###  A distribuição Normal"
   ]
  },
  {
   "cell_type": "code",
   "execution_count": null,
   "metadata": {},
   "outputs": [],
   "source": [
    "dn = pd.Series(np.random.randn(500))\n",
    "\n",
    "dn.plot.kde()"
   ]
  },
  {
   "cell_type": "code",
   "execution_count": null,
   "metadata": {},
   "outputs": [],
   "source": [
    "dn = pd.Series(np.random.randn(10000))\n",
    "\n",
    "dn.plot.kde()"
   ]
  },
  {
   "cell_type": "code",
   "execution_count": null,
   "metadata": {},
   "outputs": [],
   "source": [
    "print(np.mean(dn))\n",
    "print(np.median(dn))"
   ]
  },
  {
   "cell_type": "markdown",
   "metadata": {},
   "source": [
    "### Analisar a distribuição de um conjunto de dados"
   ]
  },
  {
   "cell_type": "code",
   "execution_count": null,
   "metadata": {},
   "outputs": [],
   "source": [
    "data = pd.read_csv('https://joaomrcarvalho.github.io/datasets/dm/iris.data',names=['x1','x2','x3','x4','species'])\n",
    "data.head()"
   ]
  },
  {
   "cell_type": "code",
   "execution_count": null,
   "metadata": {
    "scrolled": true
   },
   "outputs": [],
   "source": [
    "x1 = data['x1']\n",
    "\n",
    "x1.plot.kde()"
   ]
  },
  {
   "cell_type": "code",
   "execution_count": null,
   "metadata": {
    "scrolled": true
   },
   "outputs": [],
   "source": [
    "print(x1.mean())\n",
    "\n",
    "print(x1.median())"
   ]
  },
  {
   "cell_type": "code",
   "execution_count": null,
   "metadata": {},
   "outputs": [],
   "source": [
    "print(x1.skew())\n",
    "\n",
    "x1.plot.kde()"
   ]
  },
  {
   "cell_type": "code",
   "execution_count": null,
   "metadata": {},
   "outputs": [],
   "source": [
    "x2 = data['x2']\n",
    "\n",
    "print(x2.kurt())\n",
    "\n",
    "x2.plot.kde()"
   ]
  },
  {
   "cell_type": "markdown",
   "metadata": {},
   "source": [
    "**Sugestão de Exercício:** Analisar a distribuição das variáveis 'x1' e 'x2' com os dados divididos por espécies. Criar regras com base nessas variáveis que permitam definir se os valores correspondem à espécie 1, 2 ou 3. \n",
    "\n",
    "Dica: Qual o skew da variável x1 para cada uma das espécies? Que informação isso fornece sobre a relação desse valor com a sua média?"
   ]
  },
  {
   "cell_type": "markdown",
   "metadata": {},
   "source": [
    "**Sugestão de Exercício 2:** Testar a função scipy.stats.normaltest para testar se uma distribuição é normal ( https://docs.scipy.org/doc/scipy/reference/generated/scipy.stats.normaltest.html )."
   ]
  },
  {
   "cell_type": "markdown",
   "metadata": {},
   "source": [
    "## O teorema do limite central"
   ]
  },
  {
   "cell_type": "code",
   "execution_count": null,
   "metadata": {
    "scrolled": true
   },
   "outputs": [],
   "source": [
    "from scipy.stats import skewnorm\n",
    "\n",
    "r = pd.Series(skewnorm.rvs(2000, size=250000,loc=5,scale=1))\n",
    "\n",
    "print('Média da população: {}'.format(r.mean()))\n",
    "print('Mediana da população: {}'.format(r.median()))\n",
    "print('Skew da população: {}'.format(r.skew()))\n",
    "\n",
    "r.plot.kde(figsize=(20,7))\n"
   ]
  },
  {
   "cell_type": "code",
   "execution_count": null,
   "metadata": {},
   "outputs": [],
   "source": [
    "def getSampleMean(vector, sample_size):\n",
    "    sample = np.random.choice(vector, sample_size)\n",
    "    return sample.mean()"
   ]
  },
  {
   "cell_type": "code",
   "execution_count": null,
   "metadata": {},
   "outputs": [],
   "source": [
    "sample_mean_5 = []\n",
    "\n",
    "for _ in range(50000):\n",
    "    sample_mean_5.append(getSampleMean(r,5))"
   ]
  },
  {
   "cell_type": "code",
   "execution_count": null,
   "metadata": {},
   "outputs": [],
   "source": [
    "sample_mean_30 = []\n",
    "for _ in range(50000):\n",
    "    sample_mean_30.append(getSampleMean(r,30))\n",
    "\n",
    "    \n",
    "sample_mean_120 = []\n",
    "for _ in range(50000):\n",
    "    sample_mean_120.append(getSampleMean(r,120))\n",
    "\n",
    "    \n",
    "sample_mean_3600 = []\n",
    "for _ in range(50000):\n",
    "    sample_mean_3600.append(getSampleMean(r,3600))"
   ]
  },
  {
   "cell_type": "code",
   "execution_count": null,
   "metadata": {},
   "outputs": [],
   "source": [
    "means = pd.DataFrame({'size_5':sample_mean_5,\n",
    "                      'size_30':sample_mean_30,\n",
    "                      'size_120':sample_mean_120,\n",
    "                      'size_3600':sample_mean_3600})"
   ]
  },
  {
   "cell_type": "code",
   "execution_count": null,
   "metadata": {},
   "outputs": [],
   "source": [
    "means.plot.kde(figsize=(25,10))"
   ]
  },
  {
   "cell_type": "code",
   "execution_count": null,
   "metadata": {},
   "outputs": [],
   "source": [
    "def playDices(n_times):   \n",
    "    means = []\n",
    "    values = []\n",
    "    \n",
    "    for i in range(1, n_times+1):\n",
    "        values.append(np.random.randint(1,7))\n",
    "        \n",
    "        means.append(sum(values)/float(i))\n",
    "    return means,values"
   ]
  },
  {
   "cell_type": "code",
   "execution_count": null,
   "metadata": {},
   "outputs": [],
   "source": [
    "means, values = playDices(10000)\n",
    "\n",
    "simu_df = pd.DataFrame({'means':means,\n",
    "                        'values':values})"
   ]
  },
  {
   "cell_type": "code",
   "execution_count": null,
   "metadata": {
    "scrolled": true
   },
   "outputs": [],
   "source": [
    "simu_df.iloc[:200]['means'].plot.line(figsize=(20,5),ylim=(1,6))"
   ]
  },
  {
   "cell_type": "code",
   "execution_count": null,
   "metadata": {},
   "outputs": [],
   "source": [
    "simu_df['values'].plot.kde()"
   ]
  },
  {
   "cell_type": "markdown",
   "metadata": {},
   "source": [
    "## Introdução à redução de dimensionalidade"
   ]
  },
  {
   "cell_type": "markdown",
   "metadata": {},
   "source": [
    "### Introdução - lidar com imagens"
   ]
  },
  {
   "cell_type": "code",
   "execution_count": null,
   "metadata": {},
   "outputs": [],
   "source": [
    "# importar conjunto de dados MNIST directamente do scikit-learn\n",
    "from sklearn.datasets import load_digits\n",
    "\n",
    "digits = load_digits()\n",
    "\n",
    "data = digits['data']\n",
    "\n",
    "labels = digits['target']\n",
    "\n",
    "print(data.shape)"
   ]
  },
  {
   "cell_type": "code",
   "execution_count": null,
   "metadata": {},
   "outputs": [],
   "source": [
    "image = data[0].reshape((8,8))"
   ]
  },
  {
   "cell_type": "code",
   "execution_count": null,
   "metadata": {},
   "outputs": [],
   "source": [
    "plt.imshow(image)"
   ]
  },
  {
   "cell_type": "markdown",
   "metadata": {},
   "source": [
    "### Análise de Componentes Principais (PCA)"
   ]
  },
  {
   "cell_type": "code",
   "execution_count": null,
   "metadata": {},
   "outputs": [],
   "source": [
    "from sklearn.decomposition import PCA \n",
    "\n",
    "pca = PCA(n_components=2)\n",
    "\n",
    "reduced_data = pca.fit_transform(data)\n",
    "\n",
    "print(reduced_data)"
   ]
  },
  {
   "cell_type": "code",
   "execution_count": null,
   "metadata": {},
   "outputs": [],
   "source": [
    "plt.scatter(reduced_data[:,0],reduced_data[:,1],c=labels)"
   ]
  },
  {
   "cell_type": "markdown",
   "metadata": {},
   "source": [
    "### T-distributed Stochastic Neighbor Embedding "
   ]
  },
  {
   "cell_type": "code",
   "execution_count": null,
   "metadata": {},
   "outputs": [],
   "source": [
    "from sklearn.manifold import TSNE\n",
    "\n",
    "tsne = TSNE(n_components=2,learning_rate=300,perplexity = 30,early_exaggeration = 12,init = 'random')\n",
    "reduced_data = tsne.fit_transform(data)"
   ]
  },
  {
   "cell_type": "code",
   "execution_count": null,
   "metadata": {},
   "outputs": [],
   "source": [
    "plt.scatter(reduced_data[:,0],reduced_data[:,1],c=labels)"
   ]
  }
 ],
 "metadata": {
  "kernelspec": {
   "display_name": "Python 3",
   "language": "python",
   "name": "python3"
  },
  "language_info": {
   "codemirror_mode": {
    "name": "ipython",
    "version": 3
   },
   "file_extension": ".py",
   "mimetype": "text/x-python",
   "name": "python",
   "nbconvert_exporter": "python",
   "pygments_lexer": "ipython3",
   "version": "3.7.1"
  }
 },
 "nbformat": 4,
 "nbformat_minor": 2
}
