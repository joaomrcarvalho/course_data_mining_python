{
 "cells": [
  {
   "cell_type": "markdown",
   "metadata": {},
   "source": [
    "# Estrutura de dados em Pandas: inspeccionar e selecionar dados"
   ]
  },
  {
   "cell_type": "markdown",
   "metadata": {},
   "source": [
    "![alt text](http://joaomrcarvalho.github.io/images/add_new_column_pandas.png)"
   ]
  },
  {
   "cell_type": "markdown",
   "metadata": {},
   "source": [
    "## Series "
   ]
  },
  {
   "cell_type": "code",
   "execution_count": null,
   "metadata": {},
   "outputs": [],
   "source": [
    "import pandas as pd\n",
    "import numpy as np\n",
    "\n",
    "serie = pd.Series([2,3,9,6,4,3])\n",
    "print(serie)\n",
    "\n",
    "print('------------------------------------')\n",
    "serie = pd.Series(2)\n",
    "print(serie)\n",
    "\n",
    "print('------------------------------------')\n",
    "\n",
    "serie = pd.Series([1,2,3,4,5,6,7],index=['a','b','c','d','e','f','g'])\n",
    "print(serie)"
   ]
  },
  {
   "cell_type": "code",
   "execution_count": null,
   "metadata": {},
   "outputs": [],
   "source": [
    "serie = pd.Series([1,2,3,4,5,6,7],index=['a','b','c','d','e','f','g'])\n",
    "print(serie)"
   ]
  },
  {
   "cell_type": "code",
   "execution_count": null,
   "metadata": {},
   "outputs": [],
   "source": [
    "print(\"Série original:\")\n",
    "print(serie)\n",
    "\n",
    "print('Seleccionar um único valor')\n",
    "print(serie['a']) \n",
    "print(serie.iloc[0])\n",
    "print(serie.loc['a'])"
   ]
  },
  {
   "cell_type": "code",
   "execution_count": null,
   "metadata": {},
   "outputs": [],
   "source": [
    "print(\"Série original:\")\n",
    "print(serie)\n",
    "\n",
    "print('Seleccionar um intervalo de valores')\n",
    "print(serie['b':'d'])\n",
    "print(serie.iloc[1:4])\n",
    "print(serie.loc['b':'d'])"
   ]
  },
  {
   "cell_type": "code",
   "execution_count": null,
   "metadata": {},
   "outputs": [],
   "source": [
    "print(\"Série original:\")\n",
    "print(serie)\n",
    "\n",
    "print('Seleccionar o primeiro e o terceiro índices')\n",
    "print(serie[['a','c']])\n",
    "print(serie.iloc[[0, 2]])\n",
    "print(serie.loc[['a','c']])"
   ]
  },
  {
   "cell_type": "code",
   "execution_count": null,
   "metadata": {},
   "outputs": [],
   "source": [
    "dicionario = {'a':1,'b':3,'c':3,'d':4,'e':5,'f':6}\n",
    "serie = pd.Series(dicionario)\n",
    "print(serie)\n",
    "\n",
    "print('----------------------------------------------------------------')\n",
    "\n",
    "print(dicionario.keys())\n",
    "print(serie.keys())\n",
    "\n",
    "print('----------------------------------------------------------------')\n",
    "\n",
    "print(dicionario.values())\n",
    "print(serie.values)\n",
    "\n",
    "print('----------------------------------------------------------------')\n",
    "\n",
    "print(dicionario['a'])\n",
    "print(serie['a'])\n"
   ]
  },
  {
   "cell_type": "code",
   "execution_count": null,
   "metadata": {},
   "outputs": [],
   "source": [
    "array = np.arange(0, 25, 5)\n",
    "\n",
    "serie = pd.Series(array, name='Série_Simples')\n",
    "print(serie)\n",
    "\n",
    "print('----------------------------------------------')\n",
    "\n",
    "print(serie * 2)\n",
    "print(array * 2)\n",
    "\n",
    "print()\n",
    "\n",
    "print(np.exp(serie))\n",
    "print(np.exp(array))\n"
   ]
  },
  {
   "cell_type": "markdown",
   "metadata": {},
   "source": [
    "A principal diferença entre pd.Series e arrays é que na primeira as operações são orientadas através dos indíces e na segunda pela ordem dos elementos:"
   ]
  },
  {
   "cell_type": "code",
   "execution_count": null,
   "metadata": {},
   "outputs": [],
   "source": [
    "serie_1 = pd.Series([1,2,3,4,5],index=['a','b','c','d','e'])\n",
    "serie_2 = pd.Series([1,2,3,4,5],index=['a','b','d','e','f'])\n",
    "\n",
    "print(serie_1 + serie_2)\n",
    "print(\"-----------------\")\n",
    "print(serie_2 + serie_1)\n"
   ]
  },
  {
   "cell_type": "markdown",
   "metadata": {},
   "source": [
    "## DataFrames"
   ]
  },
  {
   "cell_type": "code",
   "execution_count": null,
   "metadata": {},
   "outputs": [],
   "source": [
    "array = np.arange(30).reshape(10,3)\n",
    "\n",
    "df = pd.DataFrame(array,columns=['x_1','x_2','x_3'])\n",
    "print(df)\n",
    "\n",
    "print('--------------------------------------------')\n",
    "\n",
    "dic = {\n",
    "       'x1':[2,7,8,2],\n",
    "       'x2':[2,3,4,1],\n",
    "       'x3':[4,7,8,1] \n",
    "      }\n",
    "\n",
    "df = pd.DataFrame(dic)\n",
    "print(df)\n",
    "\n",
    "print('--------------------------------------------')\n",
    "\n",
    "data = [{'a': 1, 'b': 2,'c':6}, {'a': 5, 'b': 10, 'c': 20}]\n",
    "\n",
    "df = pd.DataFrame(data)\n",
    "\n",
    "print(df)"
   ]
  },
  {
   "cell_type": "markdown",
   "metadata": {},
   "source": [
    "**Manipulações básicas de dados num Dataframe:**"
   ]
  },
  {
   "cell_type": "code",
   "execution_count": null,
   "metadata": {},
   "outputs": [],
   "source": [
    "df = pd.DataFrame({'x1':np.random.randn(10),'x2':np.random.randn(10)})\n",
    "print(df)\n",
    "\n",
    "\n",
    "print('--------------------------------------------------------------')\n",
    "\n",
    "print(df['x1'])\n",
    "\n",
    "print('---------------------------------------------------------------')\n",
    "\n",
    "df['x3'] = df['x1'] * 3 + df['x2']\n",
    "\n",
    "print(df[['x1','x3']])\n",
    "\n",
    "print('---------------------------------------------------------------------------')\n",
    "\n",
    "df['positive'] = df['x3'] > 0\n",
    "\n",
    "print(df)\n",
    "\n"
   ]
  },
  {
   "cell_type": "code",
   "execution_count": null,
   "metadata": {},
   "outputs": [],
   "source": [
    "df = pd.DataFrame({'x1':np.random.randn(10),'x2':np.random.randn(10),'x3':np.random.randn(10)})\n",
    "\n",
    "print(df)\n",
    "\n",
    "print('--------------------------------------------------------------------')\n",
    "\n",
    "del df['x1']\n",
    "print(df)\n",
    "\n",
    "print('--------------------------------------------------------------------')\n",
    "\n",
    "df.pop('x3')\n",
    "print(df)\n"
   ]
  },
  {
   "cell_type": "code",
   "execution_count": null,
   "metadata": {},
   "outputs": [],
   "source": [
    "df = pd.DataFrame({'x1':np.random.randn(10),'x2':np.random.randn(10),'x3':np.random.randn(10)})\n",
    "\n",
    "print(df)\n",
    "\n",
    "print('--------------------------------------------------------------------')\n",
    "\n",
    "\n",
    "df.drop([2,6], axis=0, inplace=True)\n",
    "\n",
    "print(df)\n",
    "\n",
    "print('--------------------------------------------------------------------')\n",
    "\n",
    "df.drop(df['x2'][df['x2'] < 0].index, axis=0, inplace=True)\n",
    "\n",
    "print(df)"
   ]
  },
  {
   "cell_type": "markdown",
   "metadata": {},
   "source": [
    "## Operações básicas"
   ]
  },
  {
   "cell_type": "code",
   "execution_count": null,
   "metadata": {},
   "outputs": [],
   "source": [
    "df = pd.DataFrame(np.random.randn(12, 4), columns=['x1', 'x2', 'x3', 'x4'])\n",
    "df2 = pd.DataFrame(np.random.randn(8, 3), columns=['x1', 'x2', 'x3'])\n",
    "\n",
    "print(df)\n",
    "print (\"-----------------------------------\")\n",
    "print(df2)\n",
    "print (\"-----------------------------------\")\n",
    "\n",
    "print(df + df2)\n",
    "print (\"-----------------------------------\")\n",
    "\n",
    "print(df * df2)"
   ]
  },
  {
   "cell_type": "code",
   "execution_count": null,
   "metadata": {},
   "outputs": [],
   "source": [
    "df = pd.DataFrame(np.random.randn(12, 3), columns=['x1', 'x2', 'x3'])\n",
    "df2 = pd.DataFrame(np.random.randn(8, 3), columns=['x1', 'x2', 'x3'])\n",
    "\n",
    "print(df)\n",
    "print (\"-----------------------------------\")\n",
    "print(df2)\n",
    "print (\"-----------------------------------\")\n",
    "\n",
    "print(df - df2.iloc[3])\n",
    "\n",
    "print('-----------------------------------------------------------------------------------------')\n",
    "\n",
    "print(df - df2.iloc[[3,5,6]])\n"
   ]
  },
  {
   "cell_type": "code",
   "execution_count": null,
   "metadata": {},
   "outputs": [],
   "source": [
    "df = pd.DataFrame(np.random.randn(12, 4), columns=['x1', 'x2', 'x3','x4'])\n",
    "\n",
    "print(df + 8)\n",
    "\n",
    "print('---------------------------------------------')\n",
    "\n",
    "print(df**2)\n",
    "\n",
    "print('---------------------------------------------')\n",
    "\n",
    "print(1/df)"
   ]
  },
  {
   "cell_type": "code",
   "execution_count": null,
   "metadata": {},
   "outputs": [],
   "source": [
    "df = pd.DataFrame(np.random.randn(5, 4), columns=['x1', 'x2', 'x3','x4'])\n",
    "\n",
    "print(np.exp(df))"
   ]
  },
  {
   "cell_type": "code",
   "execution_count": null,
   "metadata": {},
   "outputs": [],
   "source": [
    "df.dot(df.iloc[0])"
   ]
  }
 ],
 "metadata": {
  "kernelspec": {
   "display_name": "Python 3",
   "language": "python",
   "name": "python3"
  },
  "language_info": {
   "codemirror_mode": {
    "name": "ipython",
    "version": 3
   },
   "file_extension": ".py",
   "mimetype": "text/x-python",
   "name": "python",
   "nbconvert_exporter": "python",
   "pygments_lexer": "ipython3",
   "version": "3.7.1"
  }
 },
 "nbformat": 4,
 "nbformat_minor": 2
}
