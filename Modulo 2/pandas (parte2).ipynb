{
 "cells": [
  {
   "cell_type": "markdown",
   "metadata": {},
   "source": [
    "# Pandas - métodos úteis"
   ]
  },
  {
   "cell_type": "code",
   "execution_count": null,
   "metadata": {},
   "outputs": [],
   "source": [
    "import pandas as pd\n",
    "import numpy as np\n",
    "\n",
    "data = pd.read_csv('http://joaomrcarvalho.github.io/datasets/dm/adult.data')\n",
    "\n",
    "print(data.info())"
   ]
  },
  {
   "cell_type": "markdown",
   "metadata": {},
   "source": [
    "### Indexação booleana"
   ]
  },
  {
   "cell_type": "code",
   "execution_count": null,
   "metadata": {},
   "outputs": [],
   "source": [
    "selected_data = data.loc[data['age'] > 34]\n",
    "print(selected_data.head())\n",
    "\n",
    "print('---------------------------------------------------------------------------')\n",
    "\n",
    "print(selected_data['over_50k'].value_counts())\n",
    "\n",
    "\n",
    "print('---------------------------------------------------------------------------')\n",
    "\n",
    "selected_data = data.loc[(data['age'] > 34) & (data['hours-per-week'] >= 40)]\n",
    "print(selected_data['over_50k'].value_counts())\n",
    "\n",
    "\n",
    "print('---------------------------------------------------------------------------')\n",
    "\n",
    "selected_data = data.loc[(data['age'] > 34) & (data['hours-per-week'] >= 40) & (data['education'] ==  ' Bachelors')]\n",
    "print(selected_data['over_50k'].value_counts())"
   ]
  },
  {
   "cell_type": "markdown",
   "metadata": {},
   "source": [
    "**Sugestão de exercício:** Encontrar um subgrupo de indivíduos com uma grande percentagem de pessoas que ganha mais de 50k por ano."
   ]
  },
  {
   "cell_type": "markdown",
   "metadata": {},
   "source": [
    "### Valores em falta (missing values)"
   ]
  },
  {
   "cell_type": "code",
   "execution_count": null,
   "metadata": {},
   "outputs": [],
   "source": [
    "data['age'].loc[[0,5,100,200,300,1000]]  = np.nan\n",
    "\n",
    "print(data['age'].head(10))\n",
    "\n",
    "print(\"----------------------------------\")\n",
    "\n",
    "age_mean = data['age'].mean()\n",
    "\n",
    "print(age_mean)\n",
    "\n",
    "data['age'].fillna(int(age_mean),inplace=True)\n",
    "\n",
    "print(\"----------------------------------\")\n",
    "\n",
    "print(data['age'].head(10))"
   ]
  },
  {
   "cell_type": "markdown",
   "metadata": {},
   "source": [
    "###  A função apply"
   ]
  },
  {
   "cell_type": "code",
   "execution_count": null,
   "metadata": {},
   "outputs": [],
   "source": [
    "ms = list(set(data['marital-status']))\n",
    "print(ms)\n",
    "\n",
    "print(\"-----------------------------------------\")\n",
    "\n",
    "f = lambda x: ms.index(x)\n",
    "\n",
    "data.loc[:,'marital-status'] = data['marital-status'].apply(f)\n",
    "\n",
    "print(data['marital-status'].head())"
   ]
  },
  {
   "cell_type": "code",
   "execution_count": null,
   "metadata": {},
   "outputs": [],
   "source": [
    "somas = data[['capital-gain','capital-loss']].sum().values \n",
    "print(somas)\n",
    "\n",
    "print(\"----------------------\")\n",
    "\n",
    "f = lambda x: x/somas\n",
    "\n",
    "data.loc[:,['capital-gain','capital-loss']] = data[['capital-gain','capital-loss']].apply(f, axis=1)\n",
    "\n",
    "print(data[['capital-gain','capital-loss']].head(10))"
   ]
  },
  {
   "cell_type": "markdown",
   "metadata": {},
   "source": [
    "### crosstab"
   ]
  },
  {
   "cell_type": "code",
   "execution_count": null,
   "metadata": {},
   "outputs": [],
   "source": [
    "print(pd.crosstab(data['education'],data['over_50k'],margins=True))\n",
    "\n",
    "print('-------------------------------------------------------------------------------------')\n",
    "\n",
    "def to_percent(vector):\n",
    "    \"\"\" \n",
    "        Divide cada elmento de um vector pelo último elemento do mesmo.\n",
    "    \"\"\"\n",
    "    return vector/vector[-1]\n",
    "\n",
    "print(pd.crosstab(data['education'],data['over_50k'],margins=True).apply(to_percent,axis=1))"
   ]
  },
  {
   "cell_type": "markdown",
   "metadata": {},
   "source": [
    "### Merge de Dataframes "
   ]
  },
  {
   "cell_type": "code",
   "execution_count": null,
   "metadata": {},
   "outputs": [],
   "source": [
    "df_1 = pd.DataFrame({'id':['12345','45628','90362','02716','01526'],\n",
    "                      'nome':['João','Cláudia','Manuel','John','Kinoko']})\n",
    "\n",
    "df_2 = pd.DataFrame({'id':['45628','12345','01526','90362','02716'],\n",
    "                     'país':['Portugal','Portugal','Japão','Portugal','Canada']})\n",
    "\n",
    "print(df_1)\n",
    "print('------------------------------------------------------------------------------------------')\n",
    "print(df_2)\n",
    "print('------------------------------------------------------------------------------------------')\n",
    "\n",
    "df_1.merge(right=df_2, how='inner', left_on='id', right_on='id')"
   ]
  },
  {
   "cell_type": "markdown",
   "metadata": {},
   "source": [
    "### A função groupby"
   ]
  },
  {
   "cell_type": "code",
   "execution_count": null,
   "metadata": {},
   "outputs": [],
   "source": [
    "sex_data = data[['sex','age']]\n",
    "\n",
    "gp_data = sex_data.groupby('sex')\n",
    "\n",
    "print(gp_data)\n",
    "\n",
    "gp_data.mean()\n"
   ]
  },
  {
   "cell_type": "markdown",
   "metadata": {},
   "source": [
    "### Trabalhar com dados de texto"
   ]
  },
  {
   "cell_type": "code",
   "execution_count": null,
   "metadata": {},
   "outputs": [],
   "source": [
    "df = pd.DataFrame({'x1':['A', 'B', 'C', 'Aaba', 'Baca', np.nan, 'CABA', 'dog', 'cat'],\n",
    "                     'x2':['aBad','Bacon','aaa','1dg',np.nan,'h23dakl','a','b',2]})\n",
    "\n",
    "df.loc[:,'x1'] = df['x1'].str.lower()\n",
    "print(df)\n",
    "\n",
    "print(\"------------------------------------\")\n",
    "\n",
    "for col in df.columns:\n",
    "    df.loc[:, col] = df[col].str.lower() \n",
    "\n",
    "print(df)"
   ]
  },
  {
   "cell_type": "code",
   "execution_count": null,
   "metadata": {},
   "outputs": [],
   "source": [
    "print(df['x1'].str.len())"
   ]
  },
  {
   "cell_type": "code",
   "execution_count": null,
   "metadata": {},
   "outputs": [],
   "source": [
    "df = pd.DataFrame({'coluna_1 ':['A ', ' B', ' C ', ' Aaba', ' Baca', np.nan, 'CABA ', 'dog ', '  cat '],\n",
    "                   ' coluna_2  ':['aBad','Bacon',' aaa',' 1dg',np.nan,'h23dakl ','a',' b ',2]})\n",
    "\n",
    "df.columns = df.columns.str.strip(' ') \n",
    "\n",
    "for col in df.columns:\n",
    "    \n",
    "    df.loc[:,col] = df[col].str.strip() \n",
    "\n",
    "    \n",
    "print(df.values)"
   ]
  },
  {
   "cell_type": "code",
   "execution_count": null,
   "metadata": {},
   "outputs": [],
   "source": [
    "series = pd.Series(['a_b_c', 'c_d_e', np.nan, 'f_g_h'])\n",
    "\n",
    "print(series)\n",
    "\n",
    "print('-------------------------------------------------------------------------------------------------')\n",
    "\n",
    "series_splited = series.str.split('_')\n",
    "\n",
    "print(series_splited)\n",
    "\n",
    "\n",
    "print('-------------------------------------------------------------------------------------------------')\n",
    "\n",
    "print(series_splited.str.get(0))\n",
    "\n",
    "\n",
    "print('-------------------------------------------------------------------------------------------------')\n",
    "\n",
    "print(series.str.split('_', expand=True, n=1))\n",
    "\n",
    "print('------------------------------------------------------------------------------------------------')\n",
    "\n",
    "print(series.str.rsplit('_',expand=True,n=1))"
   ]
  },
  {
   "cell_type": "code",
   "execution_count": null,
   "metadata": {},
   "outputs": [],
   "source": [
    "series = pd.Series(['a_b_c', 'c_d_e', np.nan, 'f_g_h'])\n",
    "\n",
    "print(series.str.replace('_','-'))"
   ]
  },
  {
   "cell_type": "markdown",
   "metadata": {},
   "source": [
    "**Sugestão de Exercício:** Transformar o texto abaixo num DataFrame separado, onde cada palavra fique numa coluna distinta:"
   ]
  },
  {
   "cell_type": "code",
   "execution_count": null,
   "metadata": {},
   "outputs": [],
   "source": [
    "texto = \"Aqui será colocado algum texto. \\n\\\n",
    "         Primeiro esse texto terá que ser separado em linhas.\\n\\\n",
    "         Depois disso vamos transformá-lo num dataframe.\"\n",
    "\n",
    "\n",
    "print(\"Este é o resultado esperado:\")\n",
    "\n",
    "resultado_final = pd.DataFrame([['Aqui', 'será', 'colocado', 'algun', 'texto.', None, None, None,\n",
    "        None],\n",
    "       ['Primeiro', 'esse', 'texto', 'será', 'que', 'ser', 'separado',\n",
    "        'em', 'linhas.'],\n",
    "       ['Apos', 'isso', 'o', 'transformamos', 'em', 'um', 'dataframe.',\n",
    "        None, None]], columns=list('abcdfghij'))\n",
    "\n",
    "\n",
    "print(resultado_final)\n"
   ]
  },
  {
   "cell_type": "markdown",
   "metadata": {},
   "source": [
    "### Transformações wide-to-narrow (melt) e narrow-to-wide (pivot_table)"
   ]
  },
  {
   "cell_type": "code",
   "execution_count": null,
   "metadata": {},
   "outputs": [],
   "source": [
    "dic = {'data':np.arange(100)}\n",
    "\n",
    "# um pequeno truque para acrecentar várias chaves ao dicionário num for loop, para simplificar o exemplo\n",
    "for x in range(1000):\n",
    "    dic['x_{}'.format(x)] = np.random.randint(0,10000,100)\n",
    "\n",
    "df = pd.DataFrame(dic)\n",
    "print(df)              \n",
    "\n",
    "print('---------------------------------------------------------------------------------------')\n",
    "\n",
    "df = pd.melt(df, id_vars=['data'], value_vars=list(df.columns)[1:])\n",
    "\n",
    "print(df)\n",
    "\n",
    "print('---------------------------------------------------------------------------------------')\n",
    "\n",
    "df = df.sort_values(by='data')\n",
    "print(df)"
   ]
  },
  {
   "cell_type": "code",
   "execution_count": null,
   "metadata": {},
   "outputs": [],
   "source": [
    "df = pt=df.pivot_table(values='value',columns='variable',index='data')\n",
    "\n",
    "print(df)"
   ]
  }
 ],
 "metadata": {
  "kernelspec": {
   "display_name": "Python 3",
   "language": "python",
   "name": "python3"
  },
  "language_info": {
   "codemirror_mode": {
    "name": "ipython",
    "version": 3
   },
   "file_extension": ".py",
   "mimetype": "text/x-python",
   "name": "python",
   "nbconvert_exporter": "python",
   "pygments_lexer": "ipython3",
   "version": "3.7.1"
  }
 },
 "nbformat": 4,
 "nbformat_minor": 2
}
